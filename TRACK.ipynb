{
 "cells": [
  {
   "cell_type": "code",
   "execution_count": 12,
   "id": "f4b90455-7362-43b8-b7f1-5dfa75539947",
   "metadata": {},
   "outputs": [],
   "source": [
    "import pandas as pd\n",
    "import seaborn as sns\n",
    "import matplotlib.pyplot as plt\n",
    "import numpy as np\n",
    "\n",
    "import datetime"
   ]
  },
  {
   "cell_type": "code",
   "execution_count": 35,
   "id": "1e5e8460-369c-4a8c-8693-0a15079876d6",
   "metadata": {},
   "outputs": [],
   "source": [
    "df = pd.read_csv('Toggl_time_entries_2022-01-01_to_2022-12-31 (1).csv')\n",
    "\n",
    "# Drop redundant fields\n",
    "df = df.drop(['User', 'Email', 'Client', 'Billable', 'Amount ()'], axis=1)\n",
    "\n",
    "# Convert duration string to seconds (int)\n",
    "df['Duration']=pd.to_timedelta(df['Duration']).astype('timedelta64[s]').astype(int) / 60\n",
    "\n",
    "# Combine date\n",
    "df['Start'] = pd.to_datetime(df['Start date'] + ' ' + df['Start time'], yearfirst=True)\n",
    "df['End'] = pd.to_datetime(df['End date'] + ' ' + df['End time'], yearfirst=True)\n",
    "\n",
    "# Drop nans in project. Uncomment these lines to explore nans\n",
    "# print('NANs in PROJECT: ')\n",
    "# display(df[df.Project.isna()])\n",
    "df = df[df.Project.notna()]\n",
    "\n",
    "\n",
    "# TODO: Remove this after testing and when you have more data. Removes out old projects\n",
    "df = df[(df.Project != 'Applied Data Science') & (df.Project != 'Statistics for Data Science') & (df.Project != 'Machine Learning 1') & (df.Project != 'MSc Project') & (df.Project != 'ML2') & (df.Project != 'BML') & (df.Project != 'Reinforcement Learning')]"
   ]
  },
  {
   "cell_type": "code",
   "execution_count": 51,
   "id": "82851c2f-b278-49d3-aa7a-844c5b2406e0",
   "metadata": {},
   "outputs": [
    {
     "name": "stderr",
     "output_type": "stream",
     "text": [
      "C:\\Users\\johng\\AppData\\Local\\Temp\\ipykernel_13980\\3503174286.py:1: FutureWarning: this method is deprecated in favour of `Styler.hide(axis='index')`\n",
      "  display(pd.DataFrame(df.Project.unique(), columns=['Unique Projects']).style.hide_index())\n"
     ]
    },
    {
     "data": {
      "text/html": [
       "<style type=\"text/css\">\n",
       "</style>\n",
       "<table id=\"T_09878\">\n",
       "  <thead>\n",
       "    <tr>\n",
       "      <th id=\"T_09878_level0_col0\" class=\"col_heading level0 col0\" >Unique Projects</th>\n",
       "    </tr>\n",
       "  </thead>\n",
       "  <tbody>\n",
       "    <tr>\n",
       "      <td id=\"T_09878_row0_col0\" class=\"data row0 col0\" >To-Do</td>\n",
       "    </tr>\n",
       "    <tr>\n",
       "      <td id=\"T_09878_row1_col0\" class=\"data row1 col0\" >Notes</td>\n",
       "    </tr>\n",
       "    <tr>\n",
       "      <td id=\"T_09878_row2_col0\" class=\"data row2 col0\" >Data Science</td>\n",
       "    </tr>\n",
       "  </tbody>\n",
       "</table>\n"
      ],
      "text/plain": [
       "<pandas.io.formats.style.Styler at 0x279e2663130>"
      ]
     },
     "metadata": {},
     "output_type": "display_data"
    }
   ],
   "source": [
    "display(pd.DataFrame(df.Project.unique(), columns=['Unique Projects']).style.hide_index())"
   ]
  },
  {
   "cell_type": "markdown",
   "id": "8fe2d792-5c07-42f8-a6dd-1f686078906e",
   "metadata": {},
   "source": [
    "### 🔴 1. Monthly Breakdown"
   ]
  },
  {
   "cell_type": "code",
   "execution_count": 55,
   "id": "ca45bbad-5229-4802-a094-535b8da1e86e",
   "metadata": {},
   "outputs": [
    {
     "data": {
      "text/html": [
       "<div>\n",
       "<style scoped>\n",
       "    .dataframe tbody tr th:only-of-type {\n",
       "        vertical-align: middle;\n",
       "    }\n",
       "\n",
       "    .dataframe tbody tr th {\n",
       "        vertical-align: top;\n",
       "    }\n",
       "\n",
       "    .dataframe thead th {\n",
       "        text-align: right;\n",
       "    }\n",
       "</style>\n",
       "<table border=\"1\" class=\"dataframe\">\n",
       "  <thead>\n",
       "    <tr style=\"text-align: right;\">\n",
       "      <th></th>\n",
       "      <th>Start</th>\n",
       "      <th>Project</th>\n",
       "      <th>Task</th>\n",
       "      <th>Duration</th>\n",
       "      <th>Tags</th>\n",
       "    </tr>\n",
       "  </thead>\n",
       "  <tbody>\n",
       "    <tr>\n",
       "      <th>0</th>\n",
       "      <td>January</td>\n",
       "      <td>Notes</td>\n",
       "      <td>0.0</td>\n",
       "      <td>2.860833</td>\n",
       "      <td>0.0</td>\n",
       "    </tr>\n",
       "    <tr>\n",
       "      <th>1</th>\n",
       "      <td>January</td>\n",
       "      <td>To-Do</td>\n",
       "      <td>0.0</td>\n",
       "      <td>13.160278</td>\n",
       "      <td>0.0</td>\n",
       "    </tr>\n",
       "    <tr>\n",
       "      <th>2</th>\n",
       "      <td>February</td>\n",
       "      <td>Notes</td>\n",
       "      <td>0.0</td>\n",
       "      <td>1.210556</td>\n",
       "      <td>0.0</td>\n",
       "    </tr>\n",
       "    <tr>\n",
       "      <th>3</th>\n",
       "      <td>February</td>\n",
       "      <td>To-Do</td>\n",
       "      <td>0.0</td>\n",
       "      <td>24.576944</td>\n",
       "      <td>0.0</td>\n",
       "    </tr>\n",
       "    <tr>\n",
       "      <th>4</th>\n",
       "      <td>March</td>\n",
       "      <td>Notes</td>\n",
       "      <td>0.0</td>\n",
       "      <td>2.017222</td>\n",
       "      <td>0.0</td>\n",
       "    </tr>\n",
       "  </tbody>\n",
       "</table>\n",
       "</div>"
      ],
      "text/plain": [
       "      Start Project  Task   Duration  Tags\n",
       "0   January   Notes   0.0   2.860833   0.0\n",
       "1   January   To-Do   0.0  13.160278   0.0\n",
       "2  February   Notes   0.0   1.210556   0.0\n",
       "3  February   To-Do   0.0  24.576944   0.0\n",
       "4     March   Notes   0.0   2.017222   0.0"
      ]
     },
     "execution_count": 55,
     "metadata": {},
     "output_type": "execute_result"
    }
   ],
   "source": [
    "df_month.head()"
   ]
  },
  {
   "cell_type": "code",
   "execution_count": 70,
   "id": "ba4b7840-c8e0-417d-9456-f5694414e627",
   "metadata": {},
   "outputs": [
    {
     "data": {
      "text/html": [
       "<div>\n",
       "<style scoped>\n",
       "    .dataframe tbody tr th:only-of-type {\n",
       "        vertical-align: middle;\n",
       "    }\n",
       "\n",
       "    .dataframe tbody tr th {\n",
       "        vertical-align: top;\n",
       "    }\n",
       "\n",
       "    .dataframe thead th {\n",
       "        text-align: right;\n",
       "    }\n",
       "</style>\n",
       "<table border=\"1\" class=\"dataframe\">\n",
       "  <thead>\n",
       "    <tr style=\"text-align: right;\">\n",
       "      <th></th>\n",
       "      <th>Start</th>\n",
       "      <th>Project</th>\n",
       "      <th>Duration</th>\n",
       "    </tr>\n",
       "  </thead>\n",
       "  <tbody>\n",
       "    <tr>\n",
       "      <th>0</th>\n",
       "      <td>January</td>\n",
       "      <td>Notes</td>\n",
       "      <td>2.860833</td>\n",
       "    </tr>\n",
       "    <tr>\n",
       "      <th>1</th>\n",
       "      <td>January</td>\n",
       "      <td>To-Do</td>\n",
       "      <td>13.160278</td>\n",
       "    </tr>\n",
       "    <tr>\n",
       "      <th>2</th>\n",
       "      <td>February</td>\n",
       "      <td>Notes</td>\n",
       "      <td>1.210556</td>\n",
       "    </tr>\n",
       "    <tr>\n",
       "      <th>3</th>\n",
       "      <td>February</td>\n",
       "      <td>To-Do</td>\n",
       "      <td>24.576944</td>\n",
       "    </tr>\n",
       "    <tr>\n",
       "      <th>4</th>\n",
       "      <td>March</td>\n",
       "      <td>Notes</td>\n",
       "      <td>2.017222</td>\n",
       "    </tr>\n",
       "  </tbody>\n",
       "</table>\n",
       "</div>"
      ],
      "text/plain": [
       "      Start Project   Duration\n",
       "0   January   Notes   2.860833\n",
       "1   January   To-Do  13.160278\n",
       "2  February   Notes   1.210556\n",
       "3  February   To-Do  24.576944\n",
       "4     March   Notes   2.017222"
      ]
     },
     "execution_count": 70,
     "metadata": {},
     "output_type": "execute_result"
    }
   ],
   "source": [
    "df_month = df.copy()\n",
    "df_month = df_month.groupby([df_month['Start'].dt.month, 'Project']).sum()\n",
    "df_month = df_month.reset_index()\n",
    "df_month['Duration'] /= 60\n",
    "df_month = df_month.drop(['Task', 'Tags'], axis=1)\n",
    "\n",
    "df_month['Start'] = df_month['Start'].map(\n",
    "    { 1 : \"January\",\n",
    "       2 : \"February\",\n",
    "       3 : \"March\",\n",
    "       4 : \"April\",\n",
    "       5 : \"May\",\n",
    "       6 : \"June\",\n",
    "       7 : \"July\",\n",
    "       8 : \"August\",\n",
    "       9 : \"September\",\n",
    "       10 : \"October\",\n",
    "       11 : \"November\",\n",
    "       12 : \"December\"})\n",
    "\n",
    "df_month.head()"
   ]
  },
  {
   "cell_type": "code",
   "execution_count": 81,
   "id": "4e9c14a5-1622-4a2e-9abe-2bc5b1af9405",
   "metadata": {},
   "outputs": [
    {
     "data": {
      "image/png": "[encoded data removed]",
      "text/plain": [
       "<Figure size 864x288 with 1 Axes>"
      ]
     },
     "metadata": {},
     "output_type": "display_data"
    }
   ],
   "source": [
    "figsize=(12,4)\n",
    "legendsize=10\n",
    "title_size=20\n",
    "bar_label_size=17\n",
    "x_tick_size = 13\n",
    "y_tick_size = 13\n",
    "\n",
    "sns.set_theme(style=\"darkgrid\")\n",
    "plt.figure(figsize=figsize)\n",
    "\n",
    "ax = sns.barplot(x='Start', y='Duration', data=df_month, hue='Project', ci=None, palette='rocket_r')\n",
    "plt.xlabel('')\n",
    "plt.ylabel('Time (hrs)', fontsize=15)\n",
    "plt.title('Total', fontsize=title_size, fontweight='bold')\n",
    "#ax.bar_label(ax.containers[0], fontsize=bar_label_size, fmt='%.0f', fontweight='bold', label_type='center') # Show values above bars\n",
    "plt.ylim([0, df_month['Duration'].max() + 3])     # Expand y axis range for visibility\n",
    "ax.xaxis.set_tick_params(labelsize=x_tick_size)                         # Enlarge x ticks\n",
    "ax.yaxis.set_tick_params(labelsize=y_tick_size)                         # Enlarge x ticks\n",
    "\n",
    "plt.show()"
   ]
  },
  {
   "cell_type": "code",
   "execution_count": 68,
   "id": "3260d09e-c296-4471-8393-33c6f11b67fa",
   "metadata": {},
   "outputs": [
    {
     "data": {
      "image/png": "[encoded data removed]",
      "text/plain": [
       "<Figure size 864x288 with 1 Axes>"
      ]
     },
     "metadata": {},
     "output_type": "display_data"
    }
   ],
   "source": [
    "figsize=(12,4)\n",
    "legendsize=10\n",
    "title_size=20\n",
    "bar_label_size=17\n",
    "\n",
    "sns.set_theme(style=\"darkgrid\")\n",
    "plt.figure(figsize=figsize)\n",
    "\n",
    "ax = sns.barplot(x='Project', y='Duration', data=df_month, hue='Start', ci=None, palette='PuBuGn')\n",
    "plt.xlabel('')\n",
    "plt.ylabel('Time (hrs)', fontsize=15)\n",
    "plt.title('Total', fontsize=title_size, fontweight='bold')\n",
    "ax.bar_label(ax.containers[0], fontsize=bar_label_size, fmt='%.0f', fontweight='bold', label_type='center') # Show values above bars\n",
    "plt.ylim([0, df_month['Duration'].max() + 3])     # Expand y axis range for visibility\n",
    "ax.xaxis.set_tick_params(labelsize=17)                         # Enlarge x ticks\n",
    "ax.yaxis.set_tick_params(labelsize=13)                         # Enlarge x ticks\n",
    "\n",
    "plt.show()"
   ]
  },
  {
   "cell_type": "markdown",
   "id": "e47002d7-7622-4ea8-90da-76547884dba4",
   "metadata": {},
   "source": [
    "### 🔴 2. Annual Breakdown"
   ]
  },
  {
   "cell_type": "code",
   "execution_count": 14,
   "id": "878a24bd-96b3-4235-882e-27a00ab03fd7",
   "metadata": {
    "tags": []
   },
   "outputs": [
    {
     "data": {
      "text/html": [
       "<div>\n",
       "<style scoped>\n",
       "    .dataframe tbody tr th:only-of-type {\n",
       "        vertical-align: middle;\n",
       "    }\n",
       "\n",
       "    .dataframe tbody tr th {\n",
       "        vertical-align: top;\n",
       "    }\n",
       "\n",
       "    .dataframe thead th {\n",
       "        text-align: right;\n",
       "    }\n",
       "</style>\n",
       "<table border=\"1\" class=\"dataframe\">\n",
       "  <thead>\n",
       "    <tr style=\"text-align: right;\">\n",
       "      <th></th>\n",
       "      <th>Start</th>\n",
       "      <th>Project</th>\n",
       "      <th>Task</th>\n",
       "      <th>Duration</th>\n",
       "      <th>Tags</th>\n",
       "    </tr>\n",
       "  </thead>\n",
       "  <tbody>\n",
       "    <tr>\n",
       "      <th>0</th>\n",
       "      <td>2022</td>\n",
       "      <td>Applied Data Science</td>\n",
       "      <td>0.0</td>\n",
       "      <td>52.506111</td>\n",
       "      <td>0.0</td>\n",
       "    </tr>\n",
       "    <tr>\n",
       "      <th>1</th>\n",
       "      <td>2022</td>\n",
       "      <td>BML</td>\n",
       "      <td>0.0</td>\n",
       "      <td>22.675833</td>\n",
       "      <td>0.0</td>\n",
       "    </tr>\n",
       "    <tr>\n",
       "      <th>2</th>\n",
       "      <td>2022</td>\n",
       "      <td>Data Science</td>\n",
       "      <td>0.0</td>\n",
       "      <td>61.751389</td>\n",
       "      <td>0.0</td>\n",
       "    </tr>\n",
       "    <tr>\n",
       "      <th>3</th>\n",
       "      <td>2022</td>\n",
       "      <td>ML2</td>\n",
       "      <td>0.0</td>\n",
       "      <td>31.824167</td>\n",
       "      <td>0.0</td>\n",
       "    </tr>\n",
       "    <tr>\n",
       "      <th>4</th>\n",
       "      <td>2022</td>\n",
       "      <td>MSc Project</td>\n",
       "      <td>0.0</td>\n",
       "      <td>116.863056</td>\n",
       "      <td>0.0</td>\n",
       "    </tr>\n",
       "    <tr>\n",
       "      <th>5</th>\n",
       "      <td>2022</td>\n",
       "      <td>Machine Learning 1</td>\n",
       "      <td>0.0</td>\n",
       "      <td>5.700556</td>\n",
       "      <td>0.0</td>\n",
       "    </tr>\n",
       "    <tr>\n",
       "      <th>6</th>\n",
       "      <td>2022</td>\n",
       "      <td>Notes</td>\n",
       "      <td>0.0</td>\n",
       "      <td>11.694167</td>\n",
       "      <td>0.0</td>\n",
       "    </tr>\n",
       "    <tr>\n",
       "      <th>7</th>\n",
       "      <td>2022</td>\n",
       "      <td>Reinforcement Learning</td>\n",
       "      <td>0.0</td>\n",
       "      <td>51.314722</td>\n",
       "      <td>0.0</td>\n",
       "    </tr>\n",
       "    <tr>\n",
       "      <th>8</th>\n",
       "      <td>2022</td>\n",
       "      <td>Statistics for Data Science</td>\n",
       "      <td>0.0</td>\n",
       "      <td>12.343333</td>\n",
       "      <td>0.0</td>\n",
       "    </tr>\n",
       "    <tr>\n",
       "      <th>9</th>\n",
       "      <td>2022</td>\n",
       "      <td>To-Do</td>\n",
       "      <td>0.0</td>\n",
       "      <td>169.577500</td>\n",
       "      <td>0.0</td>\n",
       "    </tr>\n",
       "  </tbody>\n",
       "</table>\n",
       "</div>"
      ],
      "text/plain": [
       "   Start                      Project  Task    Duration  Tags\n",
       "0   2022         Applied Data Science   0.0   52.506111   0.0\n",
       "1   2022                          BML   0.0   22.675833   0.0\n",
       "2   2022                 Data Science   0.0   61.751389   0.0\n",
       "3   2022                          ML2   0.0   31.824167   0.0\n",
       "4   2022                  MSc Project   0.0  116.863056   0.0\n",
       "5   2022           Machine Learning 1   0.0    5.700556   0.0\n",
       "6   2022                        Notes   0.0   11.694167   0.0\n",
       "7   2022       Reinforcement Learning   0.0   51.314722   0.0\n",
       "8   2022  Statistics for Data Science   0.0   12.343333   0.0\n",
       "9   2022                        To-Do   0.0  169.577500   0.0"
      ]
     },
     "execution_count": 14,
     "metadata": {},
     "output_type": "execute_result"
    }
   ],
   "source": [
    "df_year = df.copy()\n",
    "df_year = df_year.groupby([df_year['Start'].dt.year, 'Project']).sum()\n",
    "df_year = df_year.reset_index()\n",
    "df_year['Duration'] /= 3600\n",
    "\n",
    "df_year"
   ]
  },
  {
   "cell_type": "code",
   "execution_count": null,
   "id": "fedc91b9-0529-46f2-8269-9d5c9d0365b4",
   "metadata": {},
   "outputs": [],
   "source": []
  },
  {
   "cell_type": "code",
   "execution_count": null,
   "id": "56e8ea18-2703-428b-89f8-49817a2b0da8",
   "metadata": {},
   "outputs": [],
   "source": []
  },
  {
   "cell_type": "code",
   "execution_count": null,
   "id": "9d2c73fe-4135-4fa3-9cb0-660dca1e1578",
   "metadata": {},
   "outputs": [],
   "source": []
  },
  {
   "cell_type": "code",
   "execution_count": null,
   "id": "299b3115-18a4-4a2e-a012-c5bd9545d778",
   "metadata": {},
   "outputs": [],
   "source": []
  }
 ],
 "metadata": {
  "kernelspec": {
   "display_name": "Python 3 (ipykernel)",
   "language": "python",
   "name": "python3"
  },
  "language_info": {
   "codemirror_mode": {
    "name": "ipython",
    "version": 3
   },
   "file_extension": ".py",
   "mimetype": "text/x-python",
   "name": "python",
   "nbconvert_exporter": "python",
   "pygments_lexer": "ipython3",
   "version": "3.9.12"
  }
 },
 "nbformat": 4,
 "nbformat_minor": 5
}
